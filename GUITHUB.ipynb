{
 "cells": [
  {
   "cell_type": "markdown",
   "id": "a4f35774",
   "metadata": {},
   "source": [
    "# Definition GIT, Github et Gitlab"
   ]
  },
  {
   "cell_type": "markdown",
   "id": "6552cf66",
   "metadata": {},
   "source": [
    "\n",
    "\n",
    "Git : un outil sur ton ordinateur qui garde l’historique de ton code.\n",
    "Il te permet de créer des versions, des branches, revenir en arrière, et fusionner ton travail avec celui des autres.\n",
    "\n",
    "GitHub : un site web (hébergé par Microsoft) où tu peux stocker en ligne tes dépôts Git et collaborer : issues, pull requests, revues de code, CI/CD (Actions).\n",
    "Pense-le comme « le réseau social du code basé sur Git ».\n",
    "\n",
    "GitLab : un site/plateforme similaire à GitHub, mais qu’on peut aussi installer chez soi (self-hosted).\n",
    "Il offre dépôt Git + collaboration + CI/CD très intégrée, souvent apprécié en entreprise.\n",
    "\n",
    "💡 En bref : Git = l’outil de versions. GitHub/GitLab = les plateformes pour partager et automatiser autour de Git."
   ]
  },
  {
   "cell_type": "markdown",
   "id": "3eb70960",
   "metadata": {},
   "source": [
    "# Déposer un projet à partir de VSCOE sous github"
   ]
  },
  {
   "cell_type": "markdown",
   "id": "795f0292",
   "metadata": {},
   "source": [
    "B. Alternative sans commandes : interface VS Code\n",
    "\n",
    "1. Ouvre l’onglet Source Control (icône branche).\n",
    "\n",
    "2. Clique Initialize Repository.\n",
    "\n",
    "3. Renseigne un message et clique Commit.\n",
    "\n",
    "4. Clique Publish to GitHub (ou « Publish Branch »).\n",
    "\n",
    "5. Suis l’assistant (connexion GitHub) → Publish.\n",
    "\n",
    "Si tu n’as pas le bouton, tu peux installer l’extension GitHub Pull Requests and Issues, ou faire la méthode lignes de commande (section A)."
   ]
  },
  {
   "cell_type": "markdown",
   "id": "5834a85a",
   "metadata": {},
   "source": [
    "# Faire un dépot via des codes git directement"
   ]
  },
  {
   "cell_type": "markdown",
   "id": "0022b7fa",
   "metadata": {},
   "source": [
    " ###  0) Pré-requis\n",
    "git --version\n",
    "\n",
    "\n",
    "Si ça ne répond pas avec une version, installe Git puis redémarre VS Code.\n",
    "\n",
    "(Optionnel, une fois pour toutes)\n",
    "\n",
    "git config --global user.name  \"Ton Nom\"\n",
    "\n",
    "git config --global user.email \"toi@example.com\"\n",
    "\n",
    "git config --global init.defaultBranch main"
   ]
  },
  {
   "cell_type": "markdown",
   "id": "a3414e98",
   "metadata": {},
   "source": [
    "### 1) Va dans le dossier racine de ton projet\n",
    "cd \"C:\\Users\\gueye_ms\\Desktop\\package_data\"   # adapte le chemin\n",
    "\n",
    "\n",
    "Le dossier doit contenir ton code (ex. src/), pyproject.toml, README.md, etc.\n",
    "\n",
    "### 2) Initialise le dépôt Git\n",
    "git init\n",
    "\n",
    "Crée le dossier caché .git : Git commence à suivre ce projet.\n"
   ]
  },
  {
   "cell_type": "markdown",
   "id": "dec76cbb",
   "metadata": {},
   "source": [
    "###  3) Ajoute un .gitignore (recommandé)\n"
   ]
  },
  {
   "cell_type": "markdown",
   "id": "97a8b463",
   "metadata": {},
   "source": [
    "Crée un fichier .gitignore (avec l’éditeur VS Code) contenant par ex. :\n",
    "\n",
    "__pycache__/\n",
    "*.py[cod]\n",
    "*.egg-info/\n",
    ".venv/\n",
    "env/\n",
    "build/\n",
    "dist/\n",
    "*.whl\n",
    ".ipynb_checkpoints/\n",
    ".vscode/\n",
    "\n",
    "\n",
    "Évite de pousser les artefacts, environnements, caches…\n"
   ]
  },
  {
   "cell_type": "markdown",
   "id": "85258cbd",
   "metadata": {},
   "source": [
    "### 4) Vérifie l’état, ajoute et commit\n",
    "git status\n",
    "\n",
    "git add -A\n",
    "\n",
    "git commit -m \"Initial commit: package Python\"\n",
    "\n",
    "\n",
    "add -A indexe tous les fichiers (sauf ceux ignorés).\n",
    "\n",
    "Le commit fige cet état (message clair et concis).\n",
    "\n",
    "### 5) Renomme la branche en main (bonnes pratiques)\n",
    "git branch -M main\n",
    "\n",
    "### 6) Crée le dépôt vide sur GitHub\n",
    "\n",
    "Va sur GitHub → New repository → nom ex. Package_ETL → Create repository.\n",
    "\n",
    "Copie l’URL du dépôt (HTTPS ou SSH)."
   ]
  },
  {
   "cell_type": "markdown",
   "id": "f6b6a937",
   "metadata": {},
   "source": [
    "## **HTTPS**\n",
    "\n",
    "C’est quoi ? Une URL classique du type https://github.com/user/repo.git.\n",
    "\n",
    "À quoi ça sert ? Cloner/pousser un dépôt en passant par le web sécurisé (port 443). Ça marche partout (écoles/entreprises).\n",
    "\n",
    "Auth ? Identifiant GitHub + PAT (Personal Access Token) à la place du mot de passe.\n",
    "\n",
    "Quand l’utiliser ? Si tu veux la simplicité et que tu n’as pas envie de gérer des clés SSH.\n",
    "\n",
    "Exemples\n",
    "\n",
    "git clone https://github.com/user/repo.git\n",
    "\n",
    "git push\n"
   ]
  },
  {
   "cell_type": "markdown",
   "id": "85721216",
   "metadata": {},
   "source": [
    "## **SSH**\n",
    "\n",
    "C’est quoi ? Connexion via clé publique/privée (pas de mot de passe à chaque fois).\n",
    "\n",
    "À quoi ça sert ? Contribuer souvent sans retaper tes identifiants; très fluide une fois configuré.\n",
    "\n",
    "Auth ? Une clé locale (~/.ssh/id_ed25519) dont la clé publique est enregistrée sur GitHub.\n",
    "\n",
    "Quand l’utiliser ? Si tu contribues régulièrement ou automatises des pushes. Attention : parfois bloqué par certains pare-feu.\n",
    "\n"
   ]
  },
  {
   "cell_type": "markdown",
   "id": "9092776b",
   "metadata": {},
   "source": [
    "Setup rapide\n",
    "\n",
    "ssh-keygen -t ed25519 -C \"ton@email\"\n",
    "\n",
    "eval \"$(ssh-agent -s)\"; ssh-add ~/.ssh/id_ed25519\n",
    "\n",
    "cat ~/.ssh/id_ed25519.pub\n",
    "\n",
    "ssh -T git@github.com\n",
    "\n",
    "git clone git@github.com:user/repo.git\n"
   ]
  },
  {
   "cell_type": "markdown",
   "id": "c82cbf55",
   "metadata": {},
   "source": [
    "## **GitHub CLI (gh)**\n",
    "\n",
    "C’est quoi ? Un outil en ligne de commande gh pour piloter GitHub (pas Git) : créer repo/issue/PR/release, cloner, s’authentifier.\n",
    "\n",
    "À quoi ça sert ? Gagner du temps pour les actions GitHub sans ouvrir le navigateur; scripter des workflows.\n",
    "\n",
    "Auth ? gh auth login (tu choisis HTTPS ou SSH pour Git)."
   ]
  },
  {
   "cell_type": "markdown",
   "id": "0847fc95",
   "metadata": {},
   "source": [
    "exemples\n",
    "\n",
    "gh auth login\n",
    "\n",
    "gh repo clone user/repo         \n",
    "\n",
    "gh repo create my-repo --public  \n",
    "\n",
    "gh pr create -t \"feat: ...\" -b \"desc\"  \n"
   ]
  },
  {
   "cell_type": "markdown",
   "id": "d939f038",
   "metadata": {},
   "source": [
    "### 7) Lie ton dépôt local au dépôt distant\n",
    "\n",
    "HTTPS :\n",
    "\n",
    "git remote add origin https://github.com/<TON_USER>/<Package_ETL>.git\n",
    "\n",
    "\n",
    "ou SSH (si tu as une clé SSH configurée) :\n",
    "\n",
    "git remote add origin git@github.com:<TON_USER>/Package_ETL.git\n",
    "\n",
    "\n",
    "Vérifie :\n",
    "\n",
    "git remote -v\n",
    "\n",
    "### 8) Envoie ta branche sur GitHub\n",
    "git push -u origin main\n",
    "\n",
    "\n",
    "À la première fois en HTTPS, Git peut demander un Personal Access Token (PAT) en password.\n",
    "\n",
    "Ensuite, rafraîchis ta page GitHub : le code est en ligne ✅\n"
   ]
  },
  {
   "cell_type": "markdown",
   "id": "28e6400d",
   "metadata": {},
   "source": [
    "### Recap "
   ]
  },
  {
   "cell_type": "markdown",
   "id": "85928250",
   "metadata": {},
   "source": [
    "\n",
    "cd \"C:\\Users\\gueye_ms\\Desktop\\package_data\"\n",
    "\n",
    "git init\n",
    "\n",
    "git add -A\n",
    "\n",
    "git commit -m \"Initial commit: package Python\"\n",
    "\n",
    "git branch -M main\n",
    "\n",
    "git remote add origin https://github.com/<TON_USER>/<Package_ETL>.git\n",
    "\n",
    "git push -u origin main\n"
   ]
  },
  {
   "cell_type": "markdown",
   "id": "83402de4",
   "metadata": {},
   "source": [
    "# Cloner le dépôt GitHub dans VS Code"
   ]
  },
  {
   "cell_type": "markdown",
   "id": "cecdba33",
   "metadata": {},
   "source": [
    "## Méthode 1 — Par commandes (terminal intégré VS Code)"
   ]
  },
  {
   "cell_type": "markdown",
   "id": "5cf321e4",
   "metadata": {},
   "source": [
    "1. Ouvre le terminal VS Code (Ctrl+`)\n",
    "\n",
    "2. Va dans le dossier où tu veux cloner le projet :\n",
    "\n",
    "     cd \"C:\\Users\\<toi>\\Documents\"   # adapte le chemin\n",
    "\n",
    "3. cloner le dépot\n",
    "\n",
    "   git clone https://github.com/<USER>/<REPO>.git\n",
    "\n",
    "     \n"
   ]
  },
  {
   "cell_type": "markdown",
   "id": "86f6e3fd",
   "metadata": {},
   "source": [
    "## Méthode 2 — Par l’interface VS Code (GUI)"
   ]
  },
  {
   "cell_type": "markdown",
   "id": "4ddf8094",
   "metadata": {},
   "source": [
    "Command Palette (Ctrl+Shift+P) → tape “Git: Clone” → colle l’URL GitHub → choisis un dossier → Open."
   ]
  },
  {
   "cell_type": "markdown",
   "id": "e26e5746",
   "metadata": {},
   "source": [
    "# Installer le package (projet cloné)"
   ]
  },
  {
   "cell_type": "markdown",
   "id": "401554a4",
   "metadata": {},
   "source": [
    "Place-toi à la racine du projet (là où se trouve pyproject.toml ou setup.py)."
   ]
  },
  {
   "cell_type": "markdown",
   "id": "d099c47e",
   "metadata": {},
   "source": [
    "Cas 1 — Projet PEP 621 / setuptools (fichier pyproject.toml)\n",
    "\n",
    "Installation “développement” (editable) :"
   ]
  },
  {
   "cell_type": "markdown",
   "id": "50bc4abd",
   "metadata": {},
   "source": [
    "pip install -e ."
   ]
  },
  {
   "cell_type": "markdown",
   "id": "9e6954dc",
   "metadata": {},
   "source": [
    "Tu peux modifier le code et réutiliser le package sans réinstaller.)\n",
    "\n",
    "Installation classique :"
   ]
  },
  {
   "cell_type": "markdown",
   "id": "971368fc",
   "metadata": {},
   "source": [
    "pip install ."
   ]
  }
 ],
 "metadata": {
  "kernelspec": {
   "display_name": ".venv",
   "language": "python",
   "name": "python3"
  },
  "language_info": {
   "codemirror_mode": {
    "name": "ipython",
    "version": 3
   },
   "file_extension": ".py",
   "mimetype": "text/x-python",
   "name": "python",
   "nbconvert_exporter": "python",
   "pygments_lexer": "ipython3",
   "version": "3.11.9"
  }
 },
 "nbformat": 4,
 "nbformat_minor": 5
}
